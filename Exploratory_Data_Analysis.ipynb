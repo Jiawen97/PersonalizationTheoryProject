{
 "cells": [
  {
   "cell_type": "code",
   "execution_count": 1,
   "metadata": {},
   "outputs": [],
   "source": [
    "import pandas as pd \n",
    "import numpy as np"
   ]
  },
  {
   "cell_type": "code",
   "execution_count": 2,
   "metadata": {},
   "outputs": [],
   "source": [
    "path = '../ml-latest/'\n",
    "filename = 'ratings.csv'"
   ]
  },
  {
   "cell_type": "code",
   "execution_count": 3,
   "metadata": {},
   "outputs": [],
   "source": [
    "data = pd.read_csv(path+filename)"
   ]
  },
  {
   "cell_type": "markdown",
   "metadata": {},
   "source": [
    "Let us try and see now how many unique users are there"
   ]
  },
  {
   "cell_type": "code",
   "execution_count": 4,
   "metadata": {},
   "outputs": [],
   "source": [
    "user_column_name = 'userId'\n",
    "item_column_name = 'movieId'\n",
    "rating_column_name = 'rating'"
   ]
  },
  {
   "cell_type": "code",
   "execution_count": 5,
   "metadata": {},
   "outputs": [
    {
     "data": {
      "text/plain": [
       "283228"
      ]
     },
     "execution_count": 5,
     "metadata": {},
     "output_type": "execute_result"
    }
   ],
   "source": [
    "len(set(data[user_column_name]))"
   ]
  },
  {
   "cell_type": "code",
   "execution_count": 6,
   "metadata": {},
   "outputs": [
    {
     "data": {
      "text/plain": [
       "53889"
      ]
     },
     "execution_count": 6,
     "metadata": {},
     "output_type": "execute_result"
    }
   ],
   "source": [
    "len(set(data[item_column_name]))"
   ]
  },
  {
   "cell_type": "markdown",
   "metadata": {},
   "source": [
    "We see that we have $283228$ users and $53889$ movies. Let us now try and create the subset based on count and frequency of users watching a movie"
   ]
  },
  {
   "cell_type": "code",
   "execution_count": 29,
   "metadata": {},
   "outputs": [],
   "source": [
    "users_data = data.groupby([user_column_name]).size().reset_index(name='number_of_movies_watched')"
   ]
  },
  {
   "cell_type": "markdown",
   "metadata": {},
   "source": [
    "We now see the percentage of users who have seen at least a few movies"
   ]
  },
  {
   "cell_type": "code",
   "execution_count": 30,
   "metadata": {},
   "outputs": [],
   "source": [
    "count_of_movies_watches = users_data.groupby(['number_of_movies_watched']).size().reset_index(name='Sum')"
   ]
  },
  {
   "cell_type": "code",
   "execution_count": 31,
   "metadata": {},
   "outputs": [],
   "source": [
    "count_of_movies_watches['Percent'] = 100 * count_of_movies_watches['Sum']/np.sum(count_of_movies_watches['Sum'])"
   ]
  },
  {
   "cell_type": "code",
   "execution_count": 32,
   "metadata": {},
   "outputs": [],
   "source": [
    "count_of_movies_watches['CumSum'] = 100 - count_of_movies_watches['Percent'].cumsum()"
   ]
  },
  {
   "cell_type": "code",
   "execution_count": 35,
   "metadata": {},
   "outputs": [
    {
     "data": {
      "text/html": [
       "<div>\n",
       "<style scoped>\n",
       "    .dataframe tbody tr th:only-of-type {\n",
       "        vertical-align: middle;\n",
       "    }\n",
       "\n",
       "    .dataframe tbody tr th {\n",
       "        vertical-align: top;\n",
       "    }\n",
       "\n",
       "    .dataframe thead th {\n",
       "        text-align: right;\n",
       "    }\n",
       "</style>\n",
       "<table border=\"1\" class=\"dataframe\">\n",
       "  <thead>\n",
       "    <tr style=\"text-align: right;\">\n",
       "      <th></th>\n",
       "      <th>number_of_movies_watched</th>\n",
       "      <th>Sum</th>\n",
       "      <th>Percent</th>\n",
       "      <th>CumSum</th>\n",
       "    </tr>\n",
       "  </thead>\n",
       "  <tbody>\n",
       "    <tr>\n",
       "      <th>0</th>\n",
       "      <td>1</td>\n",
       "      <td>5620</td>\n",
       "      <td>1.984267</td>\n",
       "      <td>98.015733</td>\n",
       "    </tr>\n",
       "    <tr>\n",
       "      <th>1</th>\n",
       "      <td>2</td>\n",
       "      <td>3951</td>\n",
       "      <td>1.394989</td>\n",
       "      <td>96.620744</td>\n",
       "    </tr>\n",
       "    <tr>\n",
       "      <th>2</th>\n",
       "      <td>3</td>\n",
       "      <td>3534</td>\n",
       "      <td>1.247758</td>\n",
       "      <td>95.372986</td>\n",
       "    </tr>\n",
       "    <tr>\n",
       "      <th>3</th>\n",
       "      <td>4</td>\n",
       "      <td>3143</td>\n",
       "      <td>1.109707</td>\n",
       "      <td>94.263279</td>\n",
       "    </tr>\n",
       "    <tr>\n",
       "      <th>4</th>\n",
       "      <td>5</td>\n",
       "      <td>7614</td>\n",
       "      <td>2.688294</td>\n",
       "      <td>91.574986</td>\n",
       "    </tr>\n",
       "    <tr>\n",
       "      <th>5</th>\n",
       "      <td>6</td>\n",
       "      <td>5615</td>\n",
       "      <td>1.982502</td>\n",
       "      <td>89.592484</td>\n",
       "    </tr>\n",
       "    <tr>\n",
       "      <th>6</th>\n",
       "      <td>7</td>\n",
       "      <td>4220</td>\n",
       "      <td>1.489966</td>\n",
       "      <td>88.102518</td>\n",
       "    </tr>\n",
       "    <tr>\n",
       "      <th>7</th>\n",
       "      <td>8</td>\n",
       "      <td>3183</td>\n",
       "      <td>1.123830</td>\n",
       "      <td>86.978689</td>\n",
       "    </tr>\n",
       "    <tr>\n",
       "      <th>8</th>\n",
       "      <td>9</td>\n",
       "      <td>2690</td>\n",
       "      <td>0.949765</td>\n",
       "      <td>86.028924</td>\n",
       "    </tr>\n",
       "    <tr>\n",
       "      <th>9</th>\n",
       "      <td>10</td>\n",
       "      <td>7000</td>\n",
       "      <td>2.471507</td>\n",
       "      <td>83.557417</td>\n",
       "    </tr>\n",
       "    <tr>\n",
       "      <th>10</th>\n",
       "      <td>11</td>\n",
       "      <td>4597</td>\n",
       "      <td>1.623074</td>\n",
       "      <td>81.934343</td>\n",
       "    </tr>\n",
       "    <tr>\n",
       "      <th>11</th>\n",
       "      <td>12</td>\n",
       "      <td>3812</td>\n",
       "      <td>1.345912</td>\n",
       "      <td>80.588431</td>\n",
       "    </tr>\n",
       "    <tr>\n",
       "      <th>12</th>\n",
       "      <td>13</td>\n",
       "      <td>3305</td>\n",
       "      <td>1.166904</td>\n",
       "      <td>79.421526</td>\n",
       "    </tr>\n",
       "    <tr>\n",
       "      <th>13</th>\n",
       "      <td>14</td>\n",
       "      <td>3009</td>\n",
       "      <td>1.062395</td>\n",
       "      <td>78.359131</td>\n",
       "    </tr>\n",
       "    <tr>\n",
       "      <th>14</th>\n",
       "      <td>15</td>\n",
       "      <td>19545</td>\n",
       "      <td>6.900801</td>\n",
       "      <td>71.458330</td>\n",
       "    </tr>\n",
       "    <tr>\n",
       "      <th>15</th>\n",
       "      <td>16</td>\n",
       "      <td>10266</td>\n",
       "      <td>3.624642</td>\n",
       "      <td>67.833689</td>\n",
       "    </tr>\n",
       "    <tr>\n",
       "      <th>16</th>\n",
       "      <td>17</td>\n",
       "      <td>7125</td>\n",
       "      <td>2.515641</td>\n",
       "      <td>65.318048</td>\n",
       "    </tr>\n",
       "    <tr>\n",
       "      <th>17</th>\n",
       "      <td>18</td>\n",
       "      <td>5708</td>\n",
       "      <td>2.015337</td>\n",
       "      <td>63.302710</td>\n",
       "    </tr>\n",
       "    <tr>\n",
       "      <th>18</th>\n",
       "      <td>19</td>\n",
       "      <td>4686</td>\n",
       "      <td>1.654497</td>\n",
       "      <td>61.648213</td>\n",
       "    </tr>\n",
       "    <tr>\n",
       "      <th>19</th>\n",
       "      <td>20</td>\n",
       "      <td>5052</td>\n",
       "      <td>1.783722</td>\n",
       "      <td>59.864491</td>\n",
       "    </tr>\n",
       "    <tr>\n",
       "      <th>20</th>\n",
       "      <td>21</td>\n",
       "      <td>3705</td>\n",
       "      <td>1.308133</td>\n",
       "      <td>58.556357</td>\n",
       "    </tr>\n",
       "    <tr>\n",
       "      <th>21</th>\n",
       "      <td>22</td>\n",
       "      <td>3368</td>\n",
       "      <td>1.189148</td>\n",
       "      <td>57.367209</td>\n",
       "    </tr>\n",
       "    <tr>\n",
       "      <th>22</th>\n",
       "      <td>23</td>\n",
       "      <td>3147</td>\n",
       "      <td>1.111119</td>\n",
       "      <td>56.256090</td>\n",
       "    </tr>\n",
       "    <tr>\n",
       "      <th>23</th>\n",
       "      <td>24</td>\n",
       "      <td>2894</td>\n",
       "      <td>1.021792</td>\n",
       "      <td>55.234299</td>\n",
       "    </tr>\n",
       "    <tr>\n",
       "      <th>24</th>\n",
       "      <td>25</td>\n",
       "      <td>2914</td>\n",
       "      <td>1.028853</td>\n",
       "      <td>54.205446</td>\n",
       "    </tr>\n",
       "    <tr>\n",
       "      <th>25</th>\n",
       "      <td>26</td>\n",
       "      <td>2642</td>\n",
       "      <td>0.932817</td>\n",
       "      <td>53.272628</td>\n",
       "    </tr>\n",
       "    <tr>\n",
       "      <th>26</th>\n",
       "      <td>27</td>\n",
       "      <td>2488</td>\n",
       "      <td>0.878444</td>\n",
       "      <td>52.394184</td>\n",
       "    </tr>\n",
       "    <tr>\n",
       "      <th>27</th>\n",
       "      <td>28</td>\n",
       "      <td>2447</td>\n",
       "      <td>0.863968</td>\n",
       "      <td>51.530216</td>\n",
       "    </tr>\n",
       "    <tr>\n",
       "      <th>28</th>\n",
       "      <td>29</td>\n",
       "      <td>2402</td>\n",
       "      <td>0.848080</td>\n",
       "      <td>50.682136</td>\n",
       "    </tr>\n",
       "    <tr>\n",
       "      <th>29</th>\n",
       "      <td>30</td>\n",
       "      <td>2357</td>\n",
       "      <td>0.832192</td>\n",
       "      <td>49.849944</td>\n",
       "    </tr>\n",
       "  </tbody>\n",
       "</table>\n",
       "</div>"
      ],
      "text/plain": [
       "    number_of_movies_watched    Sum   Percent     CumSum\n",
       "0                          1   5620  1.984267  98.015733\n",
       "1                          2   3951  1.394989  96.620744\n",
       "2                          3   3534  1.247758  95.372986\n",
       "3                          4   3143  1.109707  94.263279\n",
       "4                          5   7614  2.688294  91.574986\n",
       "5                          6   5615  1.982502  89.592484\n",
       "6                          7   4220  1.489966  88.102518\n",
       "7                          8   3183  1.123830  86.978689\n",
       "8                          9   2690  0.949765  86.028924\n",
       "9                         10   7000  2.471507  83.557417\n",
       "10                        11   4597  1.623074  81.934343\n",
       "11                        12   3812  1.345912  80.588431\n",
       "12                        13   3305  1.166904  79.421526\n",
       "13                        14   3009  1.062395  78.359131\n",
       "14                        15  19545  6.900801  71.458330\n",
       "15                        16  10266  3.624642  67.833689\n",
       "16                        17   7125  2.515641  65.318048\n",
       "17                        18   5708  2.015337  63.302710\n",
       "18                        19   4686  1.654497  61.648213\n",
       "19                        20   5052  1.783722  59.864491\n",
       "20                        21   3705  1.308133  58.556357\n",
       "21                        22   3368  1.189148  57.367209\n",
       "22                        23   3147  1.111119  56.256090\n",
       "23                        24   2894  1.021792  55.234299\n",
       "24                        25   2914  1.028853  54.205446\n",
       "25                        26   2642  0.932817  53.272628\n",
       "26                        27   2488  0.878444  52.394184\n",
       "27                        28   2447  0.863968  51.530216\n",
       "28                        29   2402  0.848080  50.682136\n",
       "29                        30   2357  0.832192  49.849944"
      ]
     },
     "execution_count": 35,
     "metadata": {},
     "output_type": "execute_result"
    }
   ],
   "source": [
    "count_of_movies_watches.head(30)"
   ]
  },
  {
   "cell_type": "markdown",
   "metadata": {},
   "source": [
    "From the above analysis, we see that $91%$ of the users have watched at least $5$ movies and $83%$ of the users have seen at least $10$ movies"
   ]
  },
  {
   "cell_type": "markdown",
   "metadata": {},
   "source": [
    "$50%$ of the users have seen at least $29$ movies. If we want to remove sparcity, we would need to identify the threshold that we require to use our model. I believe the ideal number would be between $5$ and $10$ "
   ]
  },
  {
   "cell_type": "markdown",
   "metadata": {},
   "source": [
    "Similarly, we need to see how to stratify the items"
   ]
  },
  {
   "cell_type": "code",
   "execution_count": 37,
   "metadata": {},
   "outputs": [],
   "source": [
    "items_data = data.groupby([item_column_name]).size().reset_index(name='number_of_users_seen')\n",
    "count_of_items_watches = items_data.groupby(['number_of_users_seen']).size().reset_index(name='Sum')\n",
    "count_of_items_watches['Percent'] = 100 * count_of_items_watches['Sum']/np.sum(count_of_items_watches['Sum'])\n",
    "count_of_items_watches['CumSum'] = 100 - count_of_items_watches['Percent'].cumsum()"
   ]
  },
  {
   "cell_type": "code",
   "execution_count": 39,
   "metadata": {},
   "outputs": [
    {
     "data": {
      "text/html": [
       "<div>\n",
       "<style scoped>\n",
       "    .dataframe tbody tr th:only-of-type {\n",
       "        vertical-align: middle;\n",
       "    }\n",
       "\n",
       "    .dataframe tbody tr th {\n",
       "        vertical-align: top;\n",
       "    }\n",
       "\n",
       "    .dataframe thead th {\n",
       "        text-align: right;\n",
       "    }\n",
       "</style>\n",
       "<table border=\"1\" class=\"dataframe\">\n",
       "  <thead>\n",
       "    <tr style=\"text-align: right;\">\n",
       "      <th></th>\n",
       "      <th>number_of_users_seen</th>\n",
       "      <th>Sum</th>\n",
       "      <th>Percent</th>\n",
       "      <th>CumSum</th>\n",
       "    </tr>\n",
       "  </thead>\n",
       "  <tbody>\n",
       "    <tr>\n",
       "      <th>0</th>\n",
       "      <td>1</td>\n",
       "      <td>10155</td>\n",
       "      <td>18.844291</td>\n",
       "      <td>81.155709</td>\n",
       "    </tr>\n",
       "    <tr>\n",
       "      <th>1</th>\n",
       "      <td>2</td>\n",
       "      <td>6324</td>\n",
       "      <td>11.735234</td>\n",
       "      <td>69.420475</td>\n",
       "    </tr>\n",
       "    <tr>\n",
       "      <th>2</th>\n",
       "      <td>3</td>\n",
       "      <td>3919</td>\n",
       "      <td>7.272356</td>\n",
       "      <td>62.148119</td>\n",
       "    </tr>\n",
       "    <tr>\n",
       "      <th>3</th>\n",
       "      <td>4</td>\n",
       "      <td>2667</td>\n",
       "      <td>4.949062</td>\n",
       "      <td>57.199057</td>\n",
       "    </tr>\n",
       "    <tr>\n",
       "      <th>4</th>\n",
       "      <td>5</td>\n",
       "      <td>2033</td>\n",
       "      <td>3.772570</td>\n",
       "      <td>53.426488</td>\n",
       "    </tr>\n",
       "    <tr>\n",
       "      <th>5</th>\n",
       "      <td>6</td>\n",
       "      <td>1674</td>\n",
       "      <td>3.106385</td>\n",
       "      <td>50.320102</td>\n",
       "    </tr>\n",
       "    <tr>\n",
       "      <th>6</th>\n",
       "      <td>7</td>\n",
       "      <td>1321</td>\n",
       "      <td>2.451335</td>\n",
       "      <td>47.868767</td>\n",
       "    </tr>\n",
       "    <tr>\n",
       "      <th>7</th>\n",
       "      <td>8</td>\n",
       "      <td>1099</td>\n",
       "      <td>2.039377</td>\n",
       "      <td>45.829390</td>\n",
       "    </tr>\n",
       "    <tr>\n",
       "      <th>8</th>\n",
       "      <td>9</td>\n",
       "      <td>981</td>\n",
       "      <td>1.820409</td>\n",
       "      <td>44.008981</td>\n",
       "    </tr>\n",
       "    <tr>\n",
       "      <th>9</th>\n",
       "      <td>10</td>\n",
       "      <td>860</td>\n",
       "      <td>1.595873</td>\n",
       "      <td>42.413108</td>\n",
       "    </tr>\n",
       "  </tbody>\n",
       "</table>\n",
       "</div>"
      ],
      "text/plain": [
       "   number_of_users_seen    Sum    Percent     CumSum\n",
       "0                     1  10155  18.844291  81.155709\n",
       "1                     2   6324  11.735234  69.420475\n",
       "2                     3   3919   7.272356  62.148119\n",
       "3                     4   2667   4.949062  57.199057\n",
       "4                     5   2033   3.772570  53.426488\n",
       "5                     6   1674   3.106385  50.320102\n",
       "6                     7   1321   2.451335  47.868767\n",
       "7                     8   1099   2.039377  45.829390\n",
       "8                     9    981   1.820409  44.008981\n",
       "9                    10    860   1.595873  42.413108"
      ]
     },
     "execution_count": 39,
     "metadata": {},
     "output_type": "execute_result"
    }
   ],
   "source": [
    "count_of_items_watches.head(10)"
   ]
  },
  {
   "cell_type": "markdown",
   "metadata": {},
   "source": [
    "We see that $50%$ of the movies have been consumed by at least $6$ users. There are also $18%$ of the movies that have only been seen by $1$ user. These items should not be used for training since we would not be able to learn from them. We should look at movies which have been seen by at least $4$ users which covers $57%$ of the movies "
   ]
  },
  {
   "cell_type": "markdown",
   "metadata": {},
   "source": [
    "Creating a subset based on the baove combinations would need to be discussed. "
   ]
  },
  {
   "attachments": {},
   "cell_type": "markdown",
   "metadata": {},
   "source": [
    "ImDB ID is present in the file links.csv. The leading zeroes in that file are removed when opening in Excel. Need to make sure that we read the column as a string in python. \n",
    "\n",
    "Till now the if the IMDB ID is 0114709, then looking at the link https://www.imdb.com/title/tt + 0114709/ is opening up the ImDB page. Maybe we can use that to extract information from ImDB. "
   ]
  },
  {
   "cell_type": "code",
   "execution_count": null,
   "metadata": {},
   "outputs": [],
   "source": []
  }
 ],
 "metadata": {
  "kernelspec": {
   "display_name": "Python 3",
   "language": "python",
   "name": "python3"
  },
  "language_info": {
   "codemirror_mode": {
    "name": "ipython",
    "version": 3
   },
   "file_extension": ".py",
   "mimetype": "text/x-python",
   "name": "python",
   "nbconvert_exporter": "python",
   "pygments_lexer": "ipython3",
   "version": "3.7.0"
  }
 },
 "nbformat": 4,
 "nbformat_minor": 2
}
